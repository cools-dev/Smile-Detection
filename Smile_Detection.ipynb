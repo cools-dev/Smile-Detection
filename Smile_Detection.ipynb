{
  "nbformat": 4,
  "nbformat_minor": 0,
  "metadata": {
    "colab": {
      "name": "Smile-Detection.ipynb",
      "provenance": [],
      "collapsed_sections": [],
      "authorship_tag": "ABX9TyNALiZYKzNcM/9TsRnVIT5Y",
      "include_colab_link": true
    },
    "kernelspec": {
      "name": "python3",
      "display_name": "Python 3"
    },
    "accelerator": "TPU"
  },
  "cells": [
    {
      "cell_type": "markdown",
      "metadata": {
        "id": "view-in-github",
        "colab_type": "text"
      },
      "source": [
        "<a href=\"https://colab.research.google.com/github/cools-dev/Smile-Detection/blob/master/Smile_Detection.ipynb\" target=\"_parent\"><img src=\"https://colab.research.google.com/assets/colab-badge.svg\" alt=\"Open In Colab\"/></a>"
      ]
    },
    {
      "cell_type": "code",
      "metadata": {
        "id": "UngkKMxWe8SL",
        "colab_type": "code",
        "colab": {}
      },
      "source": [
        "import cv2\n",
        "\n",
        "#Face classifier\n",
        "face_detector = cv2.CascadeClassifier('haarcascade_frontalface_default.xml')\n",
        "smile_detector = cv2.CascadeClassifier('haarcascade_smile.xml')\n"
      ],
      "execution_count": 2,
      "outputs": []
    },
    {
      "cell_type": "code",
      "metadata": {
        "id": "gTP7fJlkiuzI",
        "colab_type": "code",
        "colab": {}
      },
      "source": [
        "# Grab WebCam feed\n",
        "webcam = cv2.VideoCapture(0)"
      ],
      "execution_count": 3,
      "outputs": []
    },
    {
      "cell_type": "code",
      "metadata": {
        "id": "K3sFPEPll0CN",
        "colab_type": "code",
        "colab": {
          "base_uri": "https://localhost:8080/",
          "height": 34
        },
        "outputId": "4e40b1b3-ad4d-4643-9970-0d2f96e9188a"
      },
      "source": [
        "# Show the current frame\n",
        "while True:\n",
        "  # Read the current frame from webcam video stream\n",
        "  successful_frame_read, frame = webcam.read()\n",
        "\n",
        "  # If there's an error, abort\n",
        "  if not successful_frame_read:\n",
        "    break\n",
        "  # Change to grayscale\n",
        "  frame_grayscale = cv2.cvtColor( frame, cv2.COLOR_BGR2GRAY)\n",
        "  # Detect faces first\n",
        "  faces = face_detector.detectMultiScale(frame_grayscale)\n",
        "  # Detect smiles\n",
        "  smiles = smile_detector.detectMultiScale(frame_grayscale)\n",
        "  # Run smile detection within each of those faces\n",
        "  for (x, y, w, h) in faces :\n",
        "    # Drow a rectangle around the face\n",
        "    cv2.rectangle(frame,(x,y), (x+w, y+h), (100, 200, 50), 4)\n",
        "    # Get the sub frame ( using numpy N-dimensional array slicing )\n",
        "    the_face = frame[y:y+h, x:x+w]\n",
        "    # the_face = (x, y, w, h)\n",
        "    # Change to grayscale\n",
        "    face_grayscale = cv2.cvtColor(the_face, cv2.COLOR_BGR2GRAY)\n",
        "    smiles = smile_detector.detectMultiScale(face_grayscale, scaleFactor= 1.7, minNeighbors= 20)\n",
        "\n",
        "    # Find the smile in the face\n",
        "    for (x_, y_, w_, h_) in smiles :\n",
        "      # Drow a rectangle around the face\n",
        "      cv2.rectangle(the_face,(x_, y_),(x_+w_, y_+h_), (50, 50, 200), 4)\n",
        "    # Label this face as smiling\n",
        "    if len(smiles) > 0 :\n",
        "      cv2.putText(frame, 'smiling', (x, y+h+40), fontScale=3, fontFace=cv2.FONT_HERSHEY_PLAIN, color=(255, 255, 255))\n",
        "  \n",
        "  cv2.imshow ('Smile Detector', frame)\n",
        "\n",
        "  # Display\n",
        "  cv2.waitKey(1)\n",
        "\n",
        "#CleanUp\n",
        "webcam.release()\n",
        "cv2.destroyAllWindows()\n",
        "\n",
        "print(\"Code Completed\")\n",
        "\n",
        "\n",
        "\n",
        "\n",
        "\n",
        "\n"
      ],
      "execution_count": 5,
      "outputs": [
        {
          "output_type": "stream",
          "text": [
            "Code Completed\n"
          ],
          "name": "stdout"
        }
      ]
    },
    {
      "cell_type": "code",
      "metadata": {
        "id": "1IIY8ZQfm1yV",
        "colab_type": "code",
        "colab": {}
      },
      "source": [
        ""
      ],
      "execution_count": null,
      "outputs": []
    }
  ]
}